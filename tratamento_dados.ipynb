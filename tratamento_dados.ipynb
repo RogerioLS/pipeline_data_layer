{
 "cells": [
  {
   "cell_type": "markdown",
   "id": "d166727c-d321-42dd-84a9-e0d3db54c24b",
   "metadata": {},
   "source": [
    "```python\n",
    "housing_pipeline/\n",
    "├── data/\n",
    "│   ├── bronze/        # Dados originais (bronze)\n",
    "│   ├── silver/        # Dados transformados (prata)\n",
    "│   └── gold/          # Dados finais (ouro)\n",
    "├── src/\n",
    "│   ├── __init__.py    # Inicialização do pacote\n",
    "│   ├── bronze.py      # Scripts para leitura/validação de dados\n",
    "│   ├── silver.py      # Scripts para limpeza e transformação\n",
    "│   ├── gold.py        # Scripts para agregação e preparação final\n",
    "│   ├── logger.py      # Loggin do projeto sendo utilizado nas outras classes\n",
    "│   └── utils.py       # Funções auxiliares (paths, etc.)\n",
    "├── tests/\n",
    "│   ├── __init__.py\n",
    "│   └── test_pipeline.py\n",
    "├── requirements.txt   # Dependências do projeto\n",
    "├── README.md          # Documentação básica\n",
    "└── main.py            # Script principal para execução\n",
    "```"
   ]
  },
  {
   "cell_type": "code",
   "execution_count": 1,
   "id": "55e7f8a2-3e0e-4e7c-9206-4a8f221c17e2",
   "metadata": {
    "tags": []
   },
   "outputs": [
    {
     "data": {
      "text/html": [
       "<div>\n",
       "<style scoped>\n",
       "    .dataframe tbody tr th:only-of-type {\n",
       "        vertical-align: middle;\n",
       "    }\n",
       "\n",
       "    .dataframe tbody tr th {\n",
       "        vertical-align: top;\n",
       "    }\n",
       "\n",
       "    .dataframe thead th {\n",
       "        text-align: right;\n",
       "    }\n",
       "</style>\n",
       "<table border=\"1\" class=\"dataframe\">\n",
       "  <thead>\n",
       "    <tr style=\"text-align: right;\">\n",
       "      <th></th>\n",
       "      <th>MSZoning</th>\n",
       "      <th>AvgSalePrice</th>\n",
       "      <th>TotalLots</th>\n",
       "      <th>Count</th>\n",
       "    </tr>\n",
       "  </thead>\n",
       "  <tbody>\n",
       "    <tr>\n",
       "      <th>0</th>\n",
       "      <td>C (all)</td>\n",
       "      <td>74528.000000</td>\n",
       "      <td>95013</td>\n",
       "      <td>10</td>\n",
       "    </tr>\n",
       "    <tr>\n",
       "      <th>1</th>\n",
       "      <td>FV</td>\n",
       "      <td>214014.061538</td>\n",
       "      <td>431526</td>\n",
       "      <td>65</td>\n",
       "    </tr>\n",
       "    <tr>\n",
       "      <th>2</th>\n",
       "      <td>RH</td>\n",
       "      <td>131558.375000</td>\n",
       "      <td>118081</td>\n",
       "      <td>16</td>\n",
       "    </tr>\n",
       "    <tr>\n",
       "      <th>3</th>\n",
       "      <td>RL</td>\n",
       "      <td>191004.994787</td>\n",
       "      <td>13319158</td>\n",
       "      <td>1151</td>\n",
       "    </tr>\n",
       "    <tr>\n",
       "      <th>4</th>\n",
       "      <td>RM</td>\n",
       "      <td>126316.830275</td>\n",
       "      <td>1390791</td>\n",
       "      <td>218</td>\n",
       "    </tr>\n",
       "  </tbody>\n",
       "</table>\n",
       "</div>"
      ],
      "text/plain": [
       "  MSZoning   AvgSalePrice  TotalLots  Count\n",
       "0  C (all)   74528.000000      95013     10\n",
       "1       FV  214014.061538     431526     65\n",
       "2       RH  131558.375000     118081     16\n",
       "3       RL  191004.994787   13319158   1151\n",
       "4       RM  126316.830275    1390791    218"
      ]
     },
     "execution_count": 1,
     "metadata": {},
     "output_type": "execute_result"
    }
   ],
   "source": [
    "import pandas as pd\n",
    "df = pd.read_csv('/home/ec2-user/SageMaker/housing_pipeline/data/gold/preco_de_casas.csv')\n",
    "df"
   ]
  }
 ],
 "metadata": {
  "kernelspec": {
   "display_name": "conda_python3",
   "language": "python",
   "name": "conda_python3"
  },
  "language_info": {
   "codemirror_mode": {
    "name": "ipython",
    "version": 3
   },
   "file_extension": ".py",
   "mimetype": "text/x-python",
   "name": "python",
   "nbconvert_exporter": "python",
   "pygments_lexer": "ipython3",
   "version": "3.10.16"
  }
 },
 "nbformat": 4,
 "nbformat_minor": 5
}
